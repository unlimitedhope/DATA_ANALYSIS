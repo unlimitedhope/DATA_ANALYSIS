{
  "nbformat": 4,
  "nbformat_minor": 0,
  "metadata": {
    "colab": {
      "provenance": []
    },
    "kernelspec": {
      "name": "python3",
      "display_name": "Python 3"
    },
    "language_info": {
      "name": "python"
    }
  },
  "cells": [
    {
      "cell_type": "code",
      "execution_count": null,
      "metadata": {
        "colab": {
          "base_uri": "https://localhost:8080/"
        },
        "id": "-xixOjkv4q2s",
        "outputId": "51b3792e-9e07-4104-b655-9c3368d9254c"
      },
      "outputs": [
        {
          "output_type": "stream",
          "name": "stdout",
          "text": [
            " Welcome to the Current Affairs Quiz!\n",
            "\n",
            "Question 1: Who is the current President of the United States in 2025?\n",
            "A. Joe Biden B. Donald Trump C. Kamala Harris\n"
          ]
        }
      ],
      "source": [
        "# Setting up the quiz questions (Current Affairs - 2025)\n",
        "quiz_questions = [\n",
        "    {\"question\": \"Who is the current President of the United States in 2025?\",\n",
        "     \"options\": \"A. Joe Biden B. Donald Trump C. Kamala Harris\",\n",
        "     \"answer\": \"A\"},\n",
        "\n",
        "    {\"question\": \"Which country hosted the 2024 Summer Olympics?\",\n",
        "     \"options\": \"A. France B. Japan C. USA\",\n",
        "     \"answer\": \"A\"},\n",
        "\n",
        "    {\"question\": \"Which film won Best Picture at the 2025 Oscars?\",\n",
        "     \"options\": \"A. The Holdovers B. Oppenheimer C. Killers of the Flower Moon\",\n",
        "     \"answer\": \"B\"},\n",
        "\n",
        "    {\"question\": \"Which company became the first to reach a $4 trillion market cap in 2025?\",\n",
        "     \"options\": \"A. Apple B. Microsoft C. Amazon\",\n",
        "     \"answer\": \"A\"},\n",
        "\n",
        "    {\"question\": \"Which country won the ICC Cricket World Cup 2023?\",\n",
        "     \"options\": \"A. India B. Australia C. England\",\n",
        "     \"answer\": \"B\"},\n",
        "\n",
        "    {\"question\": \"Which social media platform was banned in several countries in 2024 due to data privacy concerns?\",\n",
        "     \"options\": \"A. TikTok B. Instagram C. Twitter\",\n",
        "     \"answer\": \"A\"},\n",
        "\n",
        "    {\"question\": \"Who is the current Secretary-General of the United Nations in 2025?\",\n",
        "     \"options\": \"A. António Guterres B. Kristalina Georgieva C. Ngozi Okonjo-Iweala\",\n",
        "     \"answer\": \"A\"},\n",
        "\n",
        "    {\"question\": \"Which country launched the first successful crewed mission to Mars in 2025?\",\n",
        "     \"options\": \"A. USA B. China C. India\",\n",
        "     \"answer\": \"B\"},\n",
        "\n",
        "    {\"question\": \"What is the name of the global AI safety summit held in 2024?\",\n",
        "     \"options\": \"A. AI Future Forum B. Bletchley Summit C. Geneva AI Congress\",\n",
        "     \"answer\": \"B\"},\n",
        "\n",
        "    {\"question\": \"Which city was named the most livable in the world in 2024?\",\n",
        "     \"options\": \"A. Vienna B. Zurich C. Copenhagen\",\n",
        "     \"answer\": \"A\"}\n",
        "]\n",
        "\n",
        "# Start the Quiz\n",
        "print(\" Welcome to the Current Affairs Quiz!\")\n",
        "score = 0\n",
        "total_questions = len(quiz_questions)\n",
        "index = 0\n",
        "\n",
        "# Looping through each question\n",
        "while index < total_questions:\n",
        "    q = quiz_questions[index]\n",
        "    print(f\"\\nQuestion {index + 1}: {q['question']}\")\n",
        "    print(q[\"options\"])\n",
        "\n",
        "    answer = input(\"Your answer (A/B/C): \").strip().upper()\n",
        "\n",
        "    if answer == q[\"answer\"]:\n",
        "        print(\"Correct!\")\n",
        "        score += 1\n",
        "        index += 1\n",
        "    else:\n",
        "        print(\"Wrong!\")\n",
        "        print(\"Options: Retry, Skip, Quit\")\n",
        "        next_action = input(\"What do you want to do? \").strip().capitalize()\n",
        "\n",
        "        if next_action == \"Retry\":\n",
        "            continue\n",
        "        elif next_action == \"Skip\":\n",
        "            index += 1\n",
        "        elif next_action == \"Quit\":\n",
        "            break\n",
        "        else:\n",
        "            print(\"Invalid choice, skipping question by default.\")\n",
        "            index += 1\n",
        "\n",
        "# End the quiz\n",
        "print(\"\\nQuiz Completed!\")\n",
        "print(f\"Your final score is {score} out of {total_questions}\")\n"
      ]
    }
  ]
}